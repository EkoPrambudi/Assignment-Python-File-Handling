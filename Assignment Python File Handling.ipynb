{
 "cells": [
  {
   "cell_type": "code",
   "execution_count": 56,
   "id": "06edd362",
   "metadata": {},
   "outputs": [
    {
     "name": "stdout",
     "output_type": "stream",
     "text": [
      "Content of'students.txt':\n",
      "John Doe, 25, john@example.com\n",
      "Jane Smith, 22, jane@example.com\n",
      "Tom Johnson, 28, tom@example.com\n",
      "Sara Lee, 20, sara@example.com\n",
      "Eko Prambudi, 28, ekop@gmail.com\n",
      "\n"
     ]
    }
   ],
   "source": [
    "file = open('students.txt', 'r') \n",
    "content = file.read()\n",
    "print(\"Content of'students.txt':\",content, sep='\\n')"
   ]
  },
  {
   "cell_type": "code",
   "execution_count": 55,
   "id": "3e1fa1ef",
   "metadata": {},
   "outputs": [
    {
     "name": "stdout",
     "output_type": "stream",
     "text": [
      "Student added successfully!\n"
     ]
    }
   ],
   "source": [
    "def add_student(name, age, email):\n",
    "    student_info = f\"{name}, {age}, {email}\\n\"\n",
    "    with open('students.txt', 'a') as file:\n",
    "        file.write(student_info)\n",
    "student_name = \"Eko Prambudi\"\n",
    "student_age = 28\n",
    "student_email = \"ekop@gmail.com\"\n",
    "print('Student added successfully!')\n",
    "add_student(student_name, student_age, student_email)"
   ]
  },
  {
   "cell_type": "code",
   "execution_count": 69,
   "id": "a2d6a115",
   "metadata": {},
   "outputs": [
    {
     "name": "stdout",
     "output_type": "stream",
     "text": [
      "Searching for a student: John Doe\n",
      "Student found: John Doe  25  john@example.com\n"
     ]
    }
   ],
   "source": [
    "def find_student_by_name(name):\n",
    "    found = False\n",
    "    with open('students.txt','r') as file:\n",
    "        for line in file:\n",
    "            student_info = line.strip().split(',')\n",
    "            if student_info[0] == name:\n",
    "                print(\"Student found:\",student_info[0],student_info[1],student_info[2])\n",
    "                found = True\n",
    "                break\n",
    "    if not found:\n",
    "        print(\"Student not found in the list.\")\n",
    "search_name = input('Searching for a student: ')\n",
    "find_student_by_name(search_name)"
   ]
  },
  {
   "cell_type": "code",
   "execution_count": 70,
   "id": "768a09bc",
   "metadata": {},
   "outputs": [
    {
     "name": "stdout",
     "output_type": "stream",
     "text": [
      "Searching for a student: Mike Brown\n",
      "Student not found in the list.\n"
     ]
    }
   ],
   "source": [
    "def find_student_by_name(name):\n",
    "    found = False\n",
    "    \n",
    "    with open('students.txt', 'r') as file:\n",
    "        for line in file:\n",
    "            student_info = line.strip().split(',')\n",
    "            if student_info[0] == name:\n",
    "                print(\"Student found:\",student_info[0],student_info[1],student_info[2])\n",
    "                found = True\n",
    "                break\n",
    "    if not found:\n",
    "        print(\"Student not found in the list.\")\n",
    "search_name = input('Searching for a student: ')\n",
    "find_student_by_name(search_name)"
   ]
  },
  {
   "cell_type": "code",
   "execution_count": null,
   "id": "8167bd87",
   "metadata": {},
   "outputs": [],
   "source": []
  }
 ],
 "metadata": {
  "kernelspec": {
   "display_name": "Python 3 (ipykernel)",
   "language": "python",
   "name": "python3"
  },
  "language_info": {
   "codemirror_mode": {
    "name": "ipython",
    "version": 3
   },
   "file_extension": ".py",
   "mimetype": "text/x-python",
   "name": "python",
   "nbconvert_exporter": "python",
   "pygments_lexer": "ipython3",
   "version": "3.10.9"
  }
 },
 "nbformat": 4,
 "nbformat_minor": 5
}
